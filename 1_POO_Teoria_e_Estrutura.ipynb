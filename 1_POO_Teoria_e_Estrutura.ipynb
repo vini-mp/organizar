{
  "nbformat": 4,
  "nbformat_minor": 0,
  "metadata": {
    "colab": {
      "provenance": [],
      "authorship_tag": "ABX9TyP4SstQTR2f8ijsHKjjiXDQ",
      "include_colab_link": true
    },
    "kernelspec": {
      "name": "python3",
      "display_name": "Python 3"
    },
    "language_info": {
      "name": "python"
    }
  },
  "cells": [
    {
      "cell_type": "markdown",
      "metadata": {
        "id": "view-in-github",
        "colab_type": "text"
      },
      "source": [
        "<a href=\"https://colab.research.google.com/github/vini-mp/organizar/blob/main/1_POO_Teoria_e_Estrutura.ipynb\" target=\"_parent\"><img src=\"https://colab.research.google.com/assets/colab-badge.svg\" alt=\"Open In Colab\"/></a>"
      ]
    },
    {
      "cell_type": "markdown",
      "source": [
        "# **Programação Orientada a Objeto**"
      ],
      "metadata": {
        "id": "WgDNFqGmEUDI"
      }
    },
    {
      "cell_type": "markdown",
      "source": [
        "## **Teoria**"
      ],
      "metadata": {
        "id": "dz_mM4KYEnrh"
      }
    },
    {
      "cell_type": "markdown",
      "source": [
        "\n",
        "1. Introdução à POO\n",
        "\n",
        "    - O que é Programação Orientada a Objetos.\n",
        "    - Como a POO se diferencia da programação procedural.\n",
        "    - Vantagens da POO.\n",
        "\n",
        "2. Conceitos Básicos\n",
        "\n",
        "    - Classes e Objetos: Definindo e instanciando classes.\n",
        "    - Atributos: Definindo e acessando atributos de uma classe.\n",
        "    - Métodos: Definindo e chamando métodos de uma classe.\n",
        "\n",
        "3. Pilares da POO\n",
        "\n",
        "  - Encapsulamento: Protegendo os dados de uma classe.\n",
        "    \n",
        "        - Uso de modificadores de acesso (public, private, protected).\n",
        "        - Métodos getters e setters.\n",
        "        - Propriedades (usando o decorador @property).\n",
        "        \n",
        "  - Herança: Criando novas classes a partir de classes existentes.\n",
        "        \n",
        "        - Introdução à Herança\n",
        "\n",
        "            - Conceitos básicos e definição de herança.\n",
        "            - Como a herança promove o reuso de código e a organização da estrutura do programa.\n",
        "\n",
        "        - Tipos de Herança\n",
        "\n",
        "            - Herança Simples: Uma classe derivada de uma única classe base.\n",
        "            - Herança Múltipla: Uma classe derivada de mais de uma classe base.\n",
        "            - Uso da função super().\n",
        "\n",
        "\n",
        "        \n",
        "- Polimorfismo: Permitindo que um objeto se comporte de diferentes maneiras.\n",
        "    \n",
        "    - Polimorfismo de sobrecarga.\n",
        "    - Polimorfismo de sobrescrita (também conhecido como overriding).\n",
        "        \n",
        "    - Abstração: Focando nas características essenciais de um objeto.\n",
        "        - Classes abstratas e métodos abstratos.\n",
        "\n",
        "\n"
      ],
      "metadata": {
        "id": "qf3xz8j9ErLn"
      }
    },
    {
      "cell_type": "markdown",
      "source": [
        "\n",
        "1. Introdução à POO\n",
        "\n",
        "    1. O que é Programação Orientada a Objetos.\n",
        "    2. Como a POO se diferencia da programação procedural.\n",
        "    3. Vantagens da POO.\n",
        "\n",
        "\n",
        "1. O que é Programação Orientada a Objetos (POO)?\n",
        "\n",
        "A Programação Orientada a Objetos (POO) é um paradigma de programação\n",
        "que usa \"objetos\" e classes para organizar o código. Esses objetos podem\n",
        "representar entidades do mundo real ou conceitos abstratos e têm\n",
        "propriedades (conhecidas como atributos) e comportamentos (conhecidos como métodos).\n",
        "\n",
        "Em essência, a POO foca em modelar software em torno de conceitos e entidades do\n",
        "mundo real, tornando-o mais modular e intuitivo.\n",
        "\n",
        "\n",
        "2. Como a POO se diferencia da programação procedural?\n",
        "\n",
        "    Estrutura e Abstração: A programação procedural se baseia em rotinas,\n",
        "    ou procedimentos, e na execução sequencial de instruções. O foco está nas\n",
        "    tarefas a serem executadas. Já a POO foca nos objetos e suas interações. Em vez\n",
        "    de pensar no que o programa precisa fazer (uma série de passos), pensa-se em que\n",
        "    objetos o programa precisa e como esses objetos interagem entre si.\n",
        "\n",
        "    Modularidade: Enquanto ambos os paradigmas podem alcançar a modularidade, a POO\n",
        "    tende a encorajar uma divisão mais natural e reutilizável do código. Cada classe\n",
        "    tem uma responsabilidade única e bem definida.\n",
        "\n",
        "    Estado: Na programação procedural, os dados são muitas vezes passados de uma\n",
        "    função para outra e transformados ao longo do caminho. Na POO, os objetos têm\n",
        "    estados (através de seus atributos) e comportamentos (através de seus métodos), e o\n",
        "    estado de um objeto é modificado através de seus próprios métodos.\n",
        "    \n",
        "\n",
        "3. Vantagens da POO:\n",
        "\n",
        "    - Modularidade: Como mencionado anteriormente, a POO promove uma\n",
        "    modularidade natural, o que facilita a manutenção e a extensão do código.     \n",
        "    Módulos bem definidos podem ser reutilizados em diferentes projetos.\n",
        "\n",
        "    - Intuitividade: Modelar software em torno de objetos do mundo real ou de\n",
        "    conceitos abstratos torna o código mais intuitivo, facilitando o entendimento\n",
        "    por outros desenvolvedores.\n",
        "\n",
        "    - Flexibilidade: Através de conceitos como herança e polimorfismo, é mais\n",
        "    fácil adaptar e expandir o software. Por exemplo, é possível criar novos\n",
        "    objetos que herdem propriedades e comportamentos de objetos existentes e, em\n",
        "    seguida, personalizar ou expandir esses comportamentos conforme necessário.\n",
        "\n",
        "    - Manutenção: O encapsulamento, outro pilar da POO, significa que o estado\n",
        "    interno de um objeto é protegido de interferência externa. Isso reduz a\n",
        "    probabilidade de erros e torna o código mais seguro e fácil de manter.\n",
        "\n",
        "    - Reutilização de código: Classes bem definidas e genéricas podem ser\n",
        "    reutilizadas em diferentes partes de um projeto ou mesmo em projetos\n",
        "    diferentes, economizando tempo e esforço.\n",
        "\n"
      ],
      "metadata": {
        "id": "r82LUsfiFHaa"
      }
    },
    {
      "cell_type": "markdown",
      "source": [
        "\n",
        "2. Conceitos Básicos\n",
        "\n",
        "    1. Classes e Objetos: Definindo e instanciando classes.\n",
        "    2. Atributos: Definindo e acessando atributos de uma classe.\n",
        "    3. Métodos: Definindo e chamando métodos de uma classe\n",
        "    \n",
        "    \n",
        "  Classes e Objetos: Definindo e instanciando classes.\n",
        "    \n",
        "       Classe: É uma estrutura que define um tipo de dados, especificando as\n",
        "        propriedades (atributos) e as ações (métodos) que um objeto desse tipo pode ter.\n",
        "        Pense na classe como um blueprint ou um molde.\n",
        "        \n",
        "      Objeto: É uma instância da classe. Uma vez que você tem um molde (classe),\n",
        "        você pode criar múltiplas cópias (objetos) desse molde. Cada objeto tem seu próprio\n",
        "        conjunto de valores para os atributos definidos na classe.\n",
        "        \n",
        "      Esta declaração trata de criar o \"molde\" (classe) e depois fazer uma \"cópia\" desse\n",
        "        molde (instanciar um objeto).\n",
        "\n",
        "    Atributos: Definindo e acessando atributos de uma classe.\n",
        "    \n",
        "        Atributos: São as variáveis definidas dentro de uma classe. Eles mantêm o\n",
        "        estado do objeto. Por exemplo, uma classe Carro pode ter atributos como cor,\n",
        "        marca, velocidade_atual, etc.\n",
        "        \n",
        "        Esta declaração trata especificamente de como definir esses atributos em uma classe\n",
        "        e, uma vez que um objeto é instanciado, como você pode acessar e possivelmente modificar\n",
        "        esses atributos.\n",
        "\n",
        "    Métodos: Definindo e chamando métodos de uma classe.\n",
        "    \n",
        "        Métodos: São funções definidas dentro de uma classe. Eles definem os comportamentos\n",
        "        ou ações que um objeto dessa classe pode executar. Continuando com o exemplo da classe\n",
        "        Carro, pode haver métodos como acelerar(), frear(), virar(), etc.\n",
        "        \n",
        "        Esta declaração é sobre como criar essas funções dentro de uma classe e como, após\n",
        "        instanciar um objeto, você pode chamar esses métodos para executar ações ou\n",
        "        comportamentos específicos.\n",
        "\n",
        "Em resumo:\n",
        "\n",
        "    O primeiro item é sobre a criação da estrutura geral e a materialização dessa\n",
        "    estrutura em instâncias individuais.\n",
        "    \n",
        "    O segundo item foca nas propriedades que definem o estado de um objeto.\n",
        "    \n",
        "    O terceiro item é sobre as ações ou comportamentos que um objeto pode executar.\n",
        "    \n"
      ],
      "metadata": {
        "id": "7udUYz3hFq-k"
      }
    },
    {
      "cell_type": "markdown",
      "source": [
        "## **Classes e objetos**"
      ],
      "metadata": {
        "id": "1Ayxt7h9GBNn"
      }
    },
    {
      "cell_type": "markdown",
      "source": [
        "Definindo uma classe chamada livro:"
      ],
      "metadata": {
        "id": "CEQ8FTIcIrTb"
      }
    },
    {
      "cell_type": "code",
      "source": [
        "class Livro:\n",
        "\n",
        "  def __init__(self,titulo,autor,ano):\n",
        "\n",
        "    self.titulo=titulo\n",
        "\n",
        "    self.autor=autor\n",
        "\n",
        "    self.ano=ano\n",
        "\n",
        "\n"
      ],
      "metadata": {
        "id": "lL8G0Mo6GLEZ"
      },
      "execution_count": 1,
      "outputs": []
    },
    {
      "cell_type": "markdown",
      "source": [
        "Criando um objeto:"
      ],
      "metadata": {
        "id": "90W_DtwLI0L-"
      }
    },
    {
      "cell_type": "code",
      "source": [
        "meu_livro=Livro(\"1984\",\"George Orwell\",1949)"
      ],
      "metadata": {
        "id": "5LS2flmCI3bD"
      },
      "execution_count": 2,
      "outputs": []
    },
    {
      "cell_type": "markdown",
      "source": [
        "Acessando atributos do objeto criado:"
      ],
      "metadata": {
        "id": "Kr0bghSePHZq"
      }
    },
    {
      "cell_type": "code",
      "source": [
        "print(meu_livro.titulo)\n",
        "print(meu_livro.autor)\n",
        "print(meu_livro.ano)"
      ],
      "metadata": {
        "colab": {
          "base_uri": "https://localhost:8080/"
        },
        "id": "ryGCgwEwI5GH",
        "outputId": "bb868a01-9d58-42d8-f791-8cba8da4f9f4"
      },
      "execution_count": 3,
      "outputs": [
        {
          "output_type": "stream",
          "name": "stdout",
          "text": [
            "1984\n",
            "George Orwell\n",
            "1949\n"
          ]
        }
      ]
    },
    {
      "cell_type": "markdown",
      "source": [
        "## **Métodos**"
      ],
      "metadata": {
        "id": "GMTyllcyQwYC"
      }
    },
    {
      "cell_type": "markdown",
      "source": [
        "Métodos são funções que pertecem a um objeto\n",
        "\n",
        "Exemplo:"
      ],
      "metadata": {
        "id": "kyeEXMMVSsJd"
      }
    },
    {
      "cell_type": "code",
      "source": [
        "class Livro:\n",
        "\n",
        "  def __init__(self,titulo,autor,ano):\n",
        "\n",
        "    self.titulo=titulo\n",
        "\n",
        "    self.autor=autor\n",
        "\n",
        "    self.ano=ano\n",
        "\n",
        "  #Criação de um método:\n",
        "  def descricao(self):\n",
        "    return f\"{self.titulo} por {self.autor}, publicado em {self.ano} \""
      ],
      "metadata": {
        "id": "v6xlaRJtQ03F"
      },
      "execution_count": 4,
      "outputs": []
    },
    {
      "cell_type": "code",
      "source": [
        "meu_livro=Livro(\"1984\",\"George Orwell\",1949)"
      ],
      "metadata": {
        "id": "gIFkfp3uR-nW"
      },
      "execution_count": 5,
      "outputs": []
    },
    {
      "cell_type": "code",
      "source": [
        "print(meu_livro.descricao())"
      ],
      "metadata": {
        "colab": {
          "base_uri": "https://localhost:8080/"
        },
        "id": "n1aOvOfASEaw",
        "outputId": "077338d4-9b46-46d8-d4d0-ce835bfec6cb"
      },
      "execution_count": 6,
      "outputs": [
        {
          "output_type": "stream",
          "name": "stdout",
          "text": [
            "1984 por George Orwell, publicado em 1949 \n"
          ]
        }
      ]
    }
  ]
}
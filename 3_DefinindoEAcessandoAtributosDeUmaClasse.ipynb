{
  "nbformat": 4,
  "nbformat_minor": 0,
  "metadata": {
    "colab": {
      "provenance": [],
      "authorship_tag": "ABX9TyPk+V+U/GKru67RNvm7a6aX",
      "include_colab_link": true
    },
    "kernelspec": {
      "name": "python3",
      "display_name": "Python 3"
    },
    "language_info": {
      "name": "python"
    }
  },
  "cells": [
    {
      "cell_type": "markdown",
      "metadata": {
        "id": "view-in-github",
        "colab_type": "text"
      },
      "source": [
        "<a href=\"https://colab.research.google.com/github/vini-mp/organizar/blob/main/3_DefinindoEAcessandoAtributosDeUmaClasse.ipynb\" target=\"_parent\"><img src=\"https://colab.research.google.com/assets/colab-badge.svg\" alt=\"Open In Colab\"/></a>"
      ]
    },
    {
      "cell_type": "markdown",
      "source": [
        "# **Definindo e acessando atributos de uma classe**"
      ],
      "metadata": {
        "id": "2bY8C8dfuaJp"
      }
    },
    {
      "cell_type": "markdown",
      "source": [
        " ***Atributos: Definindo e acessando atributos de uma classe.***\n",
        "\n",
        "\n",
        "\n",
        "Exemplo Prático: Gerenciamento de Jogadores em um Time de Futebol\n",
        "\n",
        "Descrição:\n",
        "\n",
        "Imagine que você está desenvolvendo um software simples para gerenciar jogadores em um time de futebol. Cada jogador tem um nome, posição, número da camisa e quantidade de gols marcados na temporada."
      ],
      "metadata": {
        "id": "LApyzIGRvCfr"
      }
    },
    {
      "cell_type": "markdown",
      "source": [
        "## **Definindo a classe**"
      ],
      "metadata": {
        "id": "4a2YcDEnu2bf"
      }
    },
    {
      "cell_type": "code",
      "execution_count": 1,
      "metadata": {
        "id": "MqhapLOguSyu"
      },
      "outputs": [],
      "source": [
        "class Jogador:\n",
        "\n",
        "  def __init__(self, nome, posicao, numero_camisa, gols=0):\n",
        "\n",
        "    self.nome=nome\n",
        "    self.posicao=posicao\n",
        "    self.numero_camisa=numero_camisa\n",
        "    self.gols=gols"
      ]
    },
    {
      "cell_type": "markdown",
      "source": [
        "## **Instanciando e Acessando Atributos**"
      ],
      "metadata": {
        "id": "s70VdQ0Yv5En"
      }
    },
    {
      "cell_type": "markdown",
      "source": [
        "Instanciando:"
      ],
      "metadata": {
        "id": "401FkEY_wPxK"
      }
    },
    {
      "cell_type": "code",
      "source": [
        "jogador1=Jogador(\"Roberto\",\"Atacante\",9)\n",
        "jogador2=Jogador(\"Carlos\",\"Goleiro\",1)"
      ],
      "metadata": {
        "id": "nOLeWS--v9bI"
      },
      "execution_count": 2,
      "outputs": []
    },
    {
      "cell_type": "markdown",
      "source": [
        "Acessando atributos:"
      ],
      "metadata": {
        "id": "M5aTYeJUwR11"
      }
    },
    {
      "cell_type": "code",
      "source": [
        "print(f\"{jogador1.nome} é um {jogador1.posicao} e usa a camisa número {jogador1.numero_camisa} \")\n",
        "print(f\"{jogador2.nome} é um {jogador2.posicao} e usa a camisa número {jogador2.numero_camisa} \")"
      ],
      "metadata": {
        "colab": {
          "base_uri": "https://localhost:8080/"
        },
        "id": "KKqMpN4fwTtn",
        "outputId": "0bc85930-0d67-4f50-aa9e-c652d690b1e5"
      },
      "execution_count": 5,
      "outputs": [
        {
          "output_type": "stream",
          "name": "stdout",
          "text": [
            "Roberto é um Atacante e usa a camisa número 9 \n",
            "Carlos é um Goleiro e usa a camisa número 1 \n"
          ]
        }
      ]
    },
    {
      "cell_type": "markdown",
      "source": [
        "Atualizar atributos:"
      ],
      "metadata": {
        "id": "iY1-WiAPw4lx"
      }
    },
    {
      "cell_type": "code",
      "source": [
        "print(f\"{jogador1.nome} marcou  {jogador1.gols} \")\n",
        "jogador1.gols+=1\n",
        "print(f\"{jogador1.nome} marcou  {jogador1.gols} \")"
      ],
      "metadata": {
        "colab": {
          "base_uri": "https://localhost:8080/"
        },
        "id": "MYRjbpXkw7qz",
        "outputId": "1d20da92-9c2f-43e7-c71c-59140f318b13"
      },
      "execution_count": 6,
      "outputs": [
        {
          "output_type": "stream",
          "name": "stdout",
          "text": [
            "Roberto marcou  0 \n",
            "Roberto marcou  1 \n"
          ]
        }
      ]
    }
  ]
}
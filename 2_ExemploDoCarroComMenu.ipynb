{
  "nbformat": 4,
  "nbformat_minor": 0,
  "metadata": {
    "colab": {
      "provenance": [],
      "authorship_tag": "ABX9TyPcVgkLTD8ly6E/LaYQlAc1",
      "include_colab_link": true
    },
    "kernelspec": {
      "name": "python3",
      "display_name": "Python 3"
    },
    "language_info": {
      "name": "python"
    }
  },
  "cells": [
    {
      "cell_type": "markdown",
      "metadata": {
        "id": "view-in-github",
        "colab_type": "text"
      },
      "source": [
        "<a href=\"https://colab.research.google.com/github/vini-mp/organizar/blob/main/2_ExemploDoCarroComMenu.ipynb\" target=\"_parent\"><img src=\"https://colab.research.google.com/assets/colab-badge.svg\" alt=\"Open In Colab\"/></a>"
      ]
    },
    {
      "cell_type": "markdown",
      "source": [
        "# **Exemplo do carro com menu de opções**"
      ],
      "metadata": {
        "id": "gE58sdEQeCQY"
      }
    },
    {
      "cell_type": "code",
      "execution_count": null,
      "metadata": {
        "colab": {
          "base_uri": "https://localhost:8080/"
        },
        "id": "V1A0BXv9d_eg",
        "outputId": "b8c0ecec-04d9-4916-c03d-6c81ba2c0324"
      },
      "outputs": [
        {
          "output_type": "stream",
          "name": "stdout",
          "text": [
            "\n",
            "----Menu-----\n",
            "\n",
            "1. Adicionar novo carro\n",
            "2. Exibir informações do carro\n",
            "3. Acelerar um carro\n",
            "4. Frear um carro\n",
            "5. Sair\n",
            "Escolha uma opção: 6\n",
            "Opção inválida\n",
            "\n",
            "----Menu-----\n",
            "\n",
            "1. Adicionar novo carro\n",
            "2. Exibir informações do carro\n",
            "3. Acelerar um carro\n",
            "4. Frear um carro\n",
            "5. Sair\n",
            "Escolha uma opção: 5\n",
            "Saindo do programa\n"
          ]
        }
      ],
      "source": [
        "class Carro:\n",
        "\n",
        "  def __init__(self, marca, modelo, cor):\n",
        "\n",
        "    self.marca=marca\n",
        "    self.modelo=modelo\n",
        "    self.cor=cor\n",
        "    self.velocidade=0\n",
        "\n",
        "  def acelerar(self):\n",
        "\n",
        "    self.velocidade +=10\n",
        "    print(f'Velocidade atual:{self.velocidade} km/h')\n",
        "\n",
        "\n",
        "  def frear(self):\n",
        "\n",
        "    self.velocidade -=10\n",
        "\n",
        "    if self.velocidade<0:\n",
        "      self.velocidade=0\n",
        "\n",
        "    print(f'Velocidade atual:{self.velocidade} km/h')\n",
        "\n",
        "\n",
        "  def exibir_info(self):\n",
        "    print(f\"Marca: {self.marca}, Modelo: {self.modelo}, Cor: {self.cor}, Velocidade: {self.velocidade} km/h\" )\n",
        "\n",
        "\n",
        "\n",
        "lista_carros = []\n",
        "\n",
        "\n",
        "while True:\n",
        "\n",
        "  print(\"\\n----Menu-----\\n\")\n",
        "  print(\"1. Adicionar novo carro\")\n",
        "  print(\"2. Exibir informações do carro\")\n",
        "  print(\"3. Acelerar um carro\")\n",
        "  print(\"4. Frear um carro\")\n",
        "  print(\"5. Sair\")\n",
        "\n",
        "\n",
        "  escolha = input(\"Escolha uma opção: \")\n",
        "\n",
        "\n",
        "  #Adicionar novo carro\n",
        "  if escolha == \"1\":\n",
        "\n",
        "    marca=input(\"Digite a marca do carro: \")\n",
        "    modelo=input(\"Digite o modelo do carro: \")\n",
        "    cor=input(\"Digite a cor do carro: \")\n",
        "\n",
        "    novo_carro=Carro(marca,modelo,cor)\n",
        "    lista_carros.append(novo_carro)\n",
        "\n",
        "  #Exibir informações dos carros adicionados\n",
        "  elif escolha == \"2\":\n",
        "\n",
        "    if lista_carros:\n",
        "      for carro in lista_carros:\n",
        "        carro.exibir_info()\n",
        "    else:\n",
        "      print(\"Nenhum carro adicionado ainda.\")\n",
        "\n",
        "  #Sair do Loop\n",
        "  elif escolha == \"5\":\n",
        "\n",
        "    print(\"Saindo do programa\")\n",
        "    break\n",
        "\n",
        "\n",
        "  #Acelerar um carro\n",
        "  elif escolha == \"3\":\n",
        "\n",
        "    modelo = input(\"Digite o modelo do carro que você deseja acelerar: \")\n",
        "\n",
        "\n",
        "    for carro in lista_carros:\n",
        "\n",
        "        if carro.modelo == modelo:\n",
        "\n",
        "          carro.acelerar()\n",
        "          break #sai do loop for\n",
        "\n",
        "        else:\n",
        "          print(\"Modelo não encontrado\")\n",
        "\n",
        " #Desacelerar um carro\n",
        "  elif escolha == \"4\":\n",
        "\n",
        "    modelo = input(\"Digite o modelo do carro que você deseja desacelerar: \")\n",
        "\n",
        "\n",
        "    for carro in lista_carros:\n",
        "\n",
        "        if carro.modelo == modelo:\n",
        "\n",
        "          carro.frear()\n",
        "          break #sai do loop for\n",
        "\n",
        "        else:\n",
        "          print(\"Modelo não encontrado\")\n",
        "\n",
        "\n",
        "  #Se digitar alguma opção inválida no menu\n",
        "  else:\n",
        "    print(\"Opção inválida\")\n",
        "\n",
        "\n",
        "\n"
      ]
    }
  ]
}